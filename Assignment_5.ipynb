{
  "nbformat": 4,
  "nbformat_minor": 0,
  "metadata": {
    "kernelspec": {
      "display_name": "Python 3",
      "language": "python",
      "name": "python3"
    },
    "language_info": {
      "codemirror_mode": {
        "name": "ipython",
        "version": 3
      },
      "file_extension": ".py",
      "mimetype": "text/x-python",
      "name": "python",
      "nbconvert_exporter": "python",
      "pygments_lexer": "ipython3",
      "version": "3.8.5"
    },
    "colab": {
      "name": "Assignment-5.ipynb",
      "provenance": []
    }
  },
  "cells": [
    {
      "cell_type": "markdown",
      "metadata": {
        "id": "XH1dLRL1Cbjc"
      },
      "source": [
        "## Assignment-5\n",
        "### Register ID: SIRSS2221\n",
        "### Name: Supriyo Pal\n",
        "### College: Gandhi Engineering college"
      ]
    },
    {
      "cell_type": "markdown",
      "metadata": {
        "id": "tJofhcKfCbjh"
      },
      "source": [
        "#### 1. Function to return sum of all prime numbers"
      ]
    },
    {
      "cell_type": "code",
      "metadata": {
        "id": "6ICGiZWpCbjj",
        "outputId": "de016508-cc4a-437c-a5b6-defcdfe54e33"
      },
      "source": [
        "m = int(input(\"Find sum of prime numbers  : \"))\n",
        "\n",
        "sum = 0\n",
        "\n",
        "for num in range(2, m + 1):\n",
        "\n",
        "    i = 2\n",
        "    \n",
        "    for i in range(2, num):\n",
        "        if (int(num % i) == 0):\n",
        "            i = num\n",
        "            break;\n",
        "\n",
        "    \n",
        "    if i is not num:\n",
        "        sum += num\n",
        "\n",
        "print(\"\\nSum of all prime numbers upto\", m, \":\", sum)"
      ],
      "execution_count": null,
      "outputs": [
        {
          "name": "stdout",
          "output_type": "stream",
          "text": [
            "Find sum of prime numbers  : 9\n",
            "\n",
            "Sum of all prime numbers upto 9 : 15\n"
          ]
        }
      ]
    },
    {
      "cell_type": "markdown",
      "metadata": {
        "id": "R3EP4-tICbjm"
      },
      "source": [
        "#### 2. Function to check list is increasing or not"
      ]
    },
    {
      "cell_type": "code",
      "metadata": {
        "id": "qYX9cTbVCbjo",
        "outputId": "cacbe4e0-5fdc-471b-dce8-94c1b63403b1"
      },
      "source": [
        "def incr_sequence(sequence):\n",
        "    if len(sequence) < 3:\n",
        "        return True\n",
        "\n",
        "    a, b, *sequence = sequence\n",
        "    skipped = 0\n",
        "    for c in sequence:\n",
        "        if a < b < c: \n",
        "            a, b = b, c\n",
        "            continue\n",
        "        elif b < c:    \n",
        "            a, b = b, c\n",
        "        elif a < c:    \n",
        "            a, b = a, c\n",
        "        skipped += 1\n",
        "        if skipped == 2:\n",
        "            return False\n",
        "    return a < b\n",
        "\n",
        "print(incr_sequence([]))\n",
        "print(incr_sequence([1]))\n",
        "print(incr_sequence([1, 2]))\n",
        "print(incr_sequence([1, 2, 3]))"
      ],
      "execution_count": null,
      "outputs": [
        {
          "name": "stdout",
          "output_type": "stream",
          "text": [
            "True\n",
            "True\n",
            "True\n",
            "True\n"
          ]
        }
      ]
    },
    {
      "cell_type": "markdown",
      "metadata": {
        "id": "6LrfJFqXCbjq"
      },
      "source": [
        "#### 3.Write a function to check whether a given list is expanding or not"
      ]
    },
    {
      "cell_type": "code",
      "metadata": {
        "id": "jDoMoibhCbjr",
        "outputId": "0fd9143b-e262-4011-d2fa-dd7f41730054"
      },
      "source": [
        "import numpy as np\n",
        "def expanding(l):\n",
        "    if isinstance(l, list):\n",
        "        l = np.array(l)\n",
        "\n",
        "    return (np.diff(abs(l[1:] - l[:-1])) > 0).all()\n",
        "expanding([1,2,0,-7,3])"
      ],
      "execution_count": null,
      "outputs": [
        {
          "data": {
            "text/plain": [
              "True"
            ]
          },
          "execution_count": 16,
          "metadata": {},
          "output_type": "execute_result"
        }
      ]
    },
    {
      "cell_type": "markdown",
      "metadata": {
        "id": "e5bIjnHICbjs"
      },
      "source": [
        "#### 4. Function to write permutation of string"
      ]
    },
    {
      "cell_type": "code",
      "metadata": {
        "id": "yecfKEraCbju",
        "outputId": "6e129471-c6eb-4907-e8fe-c50b467bf0da"
      },
      "source": [
        "def toString(List):\n",
        "    return ''.join(List)\n",
        "\n",
        "def permute(a, l, r):\n",
        "    if l==r:\n",
        "        print (toString(a))\n",
        "    else:\n",
        "        for i in range (l,r+1):\n",
        "            a[l], a[i] = a[i], a[l]\n",
        "            permute(a, l+1, r)\n",
        "            a[l], a[i] = a[i], a[l] \n",
        "            \n",
        " \n",
        "string = \"ABC\"\n",
        "n = len(string)\n",
        "a = list(string)\n",
        "permute(a, 0, n-1)"
      ],
      "execution_count": null,
      "outputs": [
        {
          "name": "stdout",
          "output_type": "stream",
          "text": [
            "ABC\n",
            "ACB\n",
            "BAC\n",
            "BCA\n",
            "CBA\n",
            "CAB\n"
          ]
        }
      ]
    }
  ]
}
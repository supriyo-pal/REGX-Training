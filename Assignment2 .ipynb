{
  "nbformat": 4,
  "nbformat_minor": 0,
  "metadata": {
    "kernelspec": {
      "display_name": "Python 3",
      "language": "python",
      "name": "python3"
    },
    "language_info": {
      "codemirror_mode": {
        "name": "ipython",
        "version": 3
      },
      "file_extension": ".py",
      "mimetype": "text/x-python",
      "name": "python",
      "nbconvert_exporter": "python",
      "pygments_lexer": "ipython3",
      "version": "3.8.5"
    },
    "colab": {
      "name": "Assignment2.ipynb",
      "provenance": []
    }
  },
  "cells": [
    {
      "cell_type": "markdown",
      "metadata": {
        "id": "ykvneG7bklhe"
      },
      "source": [
        "**Assignment 2** </br>\n",
        "**Function, Lambda expression, Map function** </br>\n",
        "**Name: SUPRIYO PAL** </br>\n",
        "**Register Id: SIRSS2221** </br>\n",
        "**College: GANDHI ENGINEERING COLLEGE**"
      ]
    },
    {
      "cell_type": "markdown",
      "metadata": {
        "id": "p2kbf4glklhi"
      },
      "source": [
        "### 1. Lambda Expression to extract first word of a string"
      ]
    },
    {
      "cell_type": "code",
      "metadata": {
        "colab": {
          "base_uri": "https://localhost:8080/",
          "height": 52
        },
        "id": "KrsQFgCCklhk",
        "outputId": "02e3c16b-23ef-4b31-d22a-0d73cc6c8eae"
      },
      "source": [
        "n=input(\"Enter a string:\")\n",
        "first_word=lambda  n: n.split()[0]\n",
        "first_word (n)"
      ],
      "execution_count": 3,
      "outputs": [
        {
          "output_type": "stream",
          "text": [
            "Enter a string:hello brother\n"
          ],
          "name": "stdout"
        },
        {
          "output_type": "execute_result",
          "data": {
            "application/vnd.google.colaboratory.intrinsic+json": {
              "type": "string"
            },
            "text/plain": [
              "'hello'"
            ]
          },
          "metadata": {
            "tags": []
          },
          "execution_count": 3
        }
      ]
    },
    {
      "cell_type": "markdown",
      "metadata": {
        "id": "g6N5VHgnklhl"
      },
      "source": [
        "### 2.Function to extract first word of s string"
      ]
    },
    {
      "cell_type": "code",
      "metadata": {
        "colab": {
          "base_uri": "https://localhost:8080/"
        },
        "id": "jH8dhhpXklhl",
        "outputId": "280c8d27-c712-4bf3-9de1-e6630bce3305"
      },
      "source": [
        "def first_word (s):\n",
        "    n=s.split()[0]\n",
        "    print(n)\n",
        "k=input(\"Enter a String:\")\n",
        "first_word(k)"
      ],
      "execution_count": 1,
      "outputs": [
        {
          "output_type": "stream",
          "text": [
            "Enter a String:sup riyo pal\n",
            "sup\n"
          ],
          "name": "stdout"
        }
      ]
    },
    {
      "cell_type": "markdown",
      "metadata": {
        "id": "hM905abNklhm"
      },
      "source": [
        "### 3.Extract first word using map function"
      ]
    },
    {
      "cell_type": "code",
      "metadata": {
        "id": "9r0HHyfqklhm",
        "outputId": "82f8906d-89e9-48cf-a338-2d5be6f48edd"
      },
      "source": [
        "list1=['Hello world','This is list','share information']\n",
        "a=lambda list1:list1.split()[0]\n",
        "print(list(map(a,list1)))"
      ],
      "execution_count": null,
      "outputs": [
        {
          "output_type": "stream",
          "text": [
            "['Hello', 'This', 'share']\n"
          ],
          "name": "stdout"
        }
      ]
    },
    {
      "cell_type": "markdown",
      "metadata": {
        "id": "GqJBdM4Eklhn"
      },
      "source": [
        "### 4.Function to return prime factors of given number"
      ]
    },
    {
      "cell_type": "code",
      "metadata": {
        "id": "Mtc_EoVbklhn",
        "outputId": "b5dca4ae-6aa0-4e6a-b2b3-ea1260c56a2d"
      },
      "source": [
        "import math\n",
        "def prime_factors(num):  \n",
        "    \n",
        "    while num % 2 == 0:  \n",
        "        print(2,)  \n",
        "        num = num / 2  \n",
        "  \n",
        "    for i in range(3, int(math.sqrt(num)) + 1, 2):  \n",
        "  \n",
        "        \n",
        "        while num % i == 0:  \n",
        "            print(i,)  \n",
        "            num = num / i  \n",
        "    if num > 2:  \n",
        "        print(num)  \n",
        " \n",
        "  \n",
        "num = int(input(\"Enter a number:\")) \n",
        "prime_factors(num)  "
      ],
      "execution_count": null,
      "outputs": [
        {
          "output_type": "stream",
          "text": [
            "Enter a number:58\n",
            "2\n",
            "29.0\n"
          ],
          "name": "stdout"
        }
      ]
    },
    {
      "cell_type": "markdown",
      "metadata": {
        "id": "EW3wjqYnklhn"
      },
      "source": [
        "### 5. Function to find second largest number"
      ]
    },
    {
      "cell_type": "code",
      "metadata": {
        "id": "CMgrp7bAklho",
        "outputId": "d961865f-a8ba-4db6-b1db-9bbcaa0fe08f"
      },
      "source": [
        "def second_largest(list1):\n",
        "    new_list = set(list1)\n",
        "    new_list.remove(max(new_list))\n",
        "    print(max(new_list))\n",
        "list1=[]\n",
        "num = int(input(\"Enter number of elements in list: \"))\n",
        "for i in range(1, num + 1):\n",
        "    e = int(input(\"Enter elements: \"))\n",
        "    list1.append(e)\n",
        "second_largest(list1)"
      ],
      "execution_count": null,
      "outputs": [
        {
          "output_type": "stream",
          "text": [
            "Enter number of elements in list: 4\n",
            "Enter elements: 23\n",
            "Enter elements: 43\n",
            "Enter elements: 12\n",
            "Enter elements: 65\n",
            "43\n"
          ],
          "name": "stdout"
        }
      ]
    }
  ]
}
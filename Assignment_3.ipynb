{
  "nbformat": 4,
  "nbformat_minor": 0,
  "metadata": {
    "kernelspec": {
      "display_name": "Python 3",
      "language": "python",
      "name": "python3"
    },
    "language_info": {
      "codemirror_mode": {
        "name": "ipython",
        "version": 3
      },
      "file_extension": ".py",
      "mimetype": "text/x-python",
      "name": "python",
      "nbconvert_exporter": "python",
      "pygments_lexer": "ipython3",
      "version": "3.8.5"
    },
    "colab": {
      "name": "Assignment-3.ipynb",
      "provenance": []
    }
  },
  "cells": [
    {
      "cell_type": "markdown",
      "metadata": {
        "id": "XbVfPuKohIwM"
      },
      "source": [
        "# Assignment 3\n"
      ]
    },
    {
      "cell_type": "markdown",
      "metadata": {
        "id": "XAlyE4IdhIwO"
      },
      "source": [
        "##  *Register Id: SIRSS2221*\n",
        "### *Name: Supiyo Pal*\n",
        "### *College: Gandhi Engineering College*\n"
      ]
    },
    {
      "cell_type": "markdown",
      "metadata": {
        "id": "NchtP6jhhIwO"
      },
      "source": [
        "### 1. Function to return nth term  Fibonacci series"
      ]
    },
    {
      "cell_type": "code",
      "metadata": {
        "id": "VdQL-vTchIwP",
        "outputId": "fe74fb11-94bc-4bc8-892c-a89f170acd9a",
        "colab": {
          "base_uri": "https://localhost:8080/"
        }
      },
      "source": [
        "def fibo(n):\n",
        "    a=1\n",
        "    b=1\n",
        "    if n==1:\n",
        "        print('0')\n",
        "    elif n==2:\n",
        "        print('0','1')\n",
        "    else:\n",
        "        print('0',a,b,end=' ')\n",
        "        for i in range(n-3):\n",
        "            total = a + b\n",
        "            b=a\n",
        "            a= total\n",
        "            print(total,end=' ')\n",
        "        \n",
        "        \n",
        "         \n",
        "n=int(input(\"Enter the number:\"))\n",
        "fibo(n)"
      ],
      "execution_count": 1,
      "outputs": [
        {
          "output_type": "stream",
          "text": [
            "Enter the number:10\n",
            "0 1 1 2 3 5 8 13 21 34 "
          ],
          "name": "stdout"
        }
      ]
    },
    {
      "cell_type": "markdown",
      "metadata": {
        "id": "Na0Ct-0mhIwQ"
      },
      "source": [
        "### 2. GCD of two numbers using EUCLID's Algorithm"
      ]
    },
    {
      "cell_type": "code",
      "metadata": {
        "id": "8gMcjqwXhIwQ",
        "outputId": "438596a6-7683-4c2a-b0f8-603b5ab4774f",
        "colab": {
          "base_uri": "https://localhost:8080/"
        }
      },
      "source": [
        "4def gcd(a,b):\n",
        "    if a< b: \n",
        "        (a,b) = (b,a)\n",
        "    while (a % b != 0):\n",
        "        (a, b) = (b, a % b)\n",
        "    return b\n",
        "\n",
        "a=int(input(\"Enter first number:\"))\n",
        "b=int(input(\"Enter second number:\"))\n",
        "print(gcd(a,b))\n",
        "\n"
      ],
      "execution_count": 2,
      "outputs": [
        {
          "output_type": "stream",
          "text": [
            "Enter first number:2\n",
            "Enter second number:4\n",
            "2\n"
          ],
          "name": "stdout"
        }
      ]
    },
    {
      "cell_type": "markdown",
      "metadata": {
        "id": "ilMcbwyChIwR"
      },
      "source": [
        "### 3.LCM of two numbers in most optimizer way."
      ]
    },
    {
      "cell_type": "code",
      "metadata": {
        "id": "90gx-mZ-hIwR",
        "outputId": "f77ce77c-15f9-40ec-ff40-3e8b504402c8",
        "colab": {
          "base_uri": "https://localhost:8080/"
        }
      },
      "source": [
        "def gcd(x, y):\n",
        "\n",
        "   while(y):\n",
        "       x, y = y, x % y\n",
        "   return x\n",
        "\n",
        "\n",
        "def lcm(x, y):\n",
        "   lcm = (x*y)//gcd(x,y)\n",
        "   return lcm\n",
        "\n",
        "num1 = int(input(\"Enter the first number:\"))\n",
        "num2 = int(input(\"Enter the second number:\"))\n",
        "print(\"The LCM of these numbers :\", lcm(num1,num2) )"
      ],
      "execution_count": 3,
      "outputs": [
        {
          "output_type": "stream",
          "text": [
            "Enter the first number:8\n",
            "Enter the second number:5\n",
            "The LCM of these numbers : 40\n"
          ],
          "name": "stdout"
        }
      ]
    }
  ]
}